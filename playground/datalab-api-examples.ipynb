{
 "cells": [
  {
   "cell_type": "code",
   "execution_count": null,
   "id": "0eaa9d33",
   "metadata": {},
   "outputs": [],
   "source": [
    "from datalab_api import DatalabClient\n",
    "from bokeh.io import output_notebook\n",
    "output_notebook()"
   ]
  },
  {
   "cell_type": "code",
   "execution_count": null,
   "id": "b943d082",
   "metadata": {},
   "outputs": [],
   "source": [
    "client = DatalabClient(\"demo-api.datalab-org.io\")\n",
    "item_id = \"test-claude\""
   ]
  },
  {
   "cell_type": "code",
   "execution_count": null,
   "id": "1d479f9f",
   "metadata": {},
   "outputs": [],
   "source": [
    "client.get_info()"
   ]
  },
  {
   "cell_type": "code",
   "execution_count": null,
   "id": "e812045e",
   "metadata": {},
   "outputs": [],
   "source": [
    "client.authenticate()"
   ]
  },
  {
   "cell_type": "code",
   "execution_count": null,
   "id": "61d84a4b",
   "metadata": {},
   "outputs": [],
   "source": [
    "client.get_items(item_type=\"samples\", display=True);"
   ]
  },
  {
   "cell_type": "code",
   "execution_count": null,
   "id": "302c4e3f",
   "metadata": {},
   "outputs": [],
   "source": [
    "client.create_item(item_id=item_id, item_type=\"samples\", item_data={\"chemform\": \"NaCl\"})"
   ]
  },
  {
   "cell_type": "code",
   "execution_count": null,
   "id": "2819f8ad",
   "metadata": {},
   "outputs": [],
   "source": [
    "file_response = client.upload_file(\n",
    "    item_id=item_id, \n",
    "    file_path=\"/home/mevans/repos/datalab/datalab/pydatalab/example_data/echem/jdb11-1_e1_s3_squidTest_data_C15.mpr\"\n",
    ")\n",
    " file_id = file_response[\"file_id\"]"
   ]
  },
  {
   "cell_type": "code",
   "execution_count": null,
   "id": "fb56b151",
   "metadata": {
    "scrolled": true
   },
   "outputs": [],
   "source": [
    "client.get_item(item_id=item_id, load_blocks=True)"
   ]
  },
  {
   "cell_type": "code",
   "execution_count": null,
   "id": "9c906966",
   "metadata": {},
   "outputs": [],
   "source": [
    "client.create_data_block(item_id=item_id, block_type=\"cycle\", file_ids=file_id);"
   ]
  },
  {
   "cell_type": "code",
   "execution_count": null,
   "id": "e64ee213",
   "metadata": {
    "scrolled": false
   },
   "outputs": [],
   "source": [
    "item = client.get_item(item_id=item_id, load_blocks=True, display=True);"
   ]
  }
 ],
 "metadata": {
  "kernelspec": {
   "display_name": "Python 3 (ipykernel)",
   "language": "python",
   "name": "python3"
  },
  "language_info": {
   "codemirror_mode": {
    "name": "ipython",
    "version": 3
   },
   "file_extension": ".py",
   "mimetype": "text/x-python",
   "name": "python",
   "nbconvert_exporter": "python",
   "pygments_lexer": "ipython3",
   "version": "3.10.13"
  }
 },
 "nbformat": 4,
 "nbformat_minor": 5
}
